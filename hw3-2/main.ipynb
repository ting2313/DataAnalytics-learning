{
 "cells": [
  {
   "cell_type": "markdown",
   "metadata": {},
   "source": [
    "## 前處理\n",
    "### 讀入資料庫"
   ]
  },
  {
   "cell_type": "code",
   "execution_count": 1,
   "metadata": {},
   "outputs": [
    {
     "name": "stderr",
     "output_type": "stream",
     "text": [
      "/home/tingyu/.local/lib/python3.7/site-packages/pandas/compat/__init__.py:117: UserWarning: Could not import the lzma module. Your installed Python is incomplete. Attempting to use lzma compression will result in a RuntimeError.\n",
      "  warnings.warn(msg)\n"
     ]
    }
   ],
   "source": [
    "import time\n",
    "import numpy as np\n",
    "import pandas as pd\n",
    "\n",
    "EXECUTION_START_TIME = time.time()\n",
    "\n",
    "df = pd.read_csv('google_review_ratings.csv')"
   ]
  },
  {
   "cell_type": "code",
   "execution_count": 2,
   "metadata": {},
   "outputs": [],
   "source": [
    "# import\n",
    "pd.options.mode.chained_assignment = None      # 解決會噴 warning 的狀況\n",
    "\n",
    "import matplotlib.pyplot as plt\n",
    "import seaborn as sns"
   ]
  },
  {
   "cell_type": "markdown",
   "metadata": {},
   "source": [
    "### 填補缺失值\n",
    "先檢查是否有缺失值"
   ]
  },
  {
   "cell_type": "code",
   "execution_count": 3,
   "metadata": {},
   "outputs": [
    {
     "name": "stdout",
     "output_type": "stream",
     "text": [
      "        Category 1   Category 2   Category 3   Category 4   Category 5  \\\n",
      "count  5456.000000  5456.000000  5456.000000  5456.000000  5456.000000   \n",
      "mean      1.455720     2.319707     2.489331     2.796886     2.958941   \n",
      "std       0.827604     1.421438     1.247815     1.309159     1.339056   \n",
      "min       0.000000     0.000000     0.000000     0.830000     1.120000   \n",
      "25%       0.920000     1.360000     1.540000     1.730000     1.770000   \n",
      "50%       1.340000     1.905000     2.060000     2.460000     2.670000   \n",
      "75%       1.810000     2.682500     2.740000     4.092500     4.312500   \n",
      "max       5.000000     5.000000     5.000000     5.000000     5.000000   \n",
      "\n",
      "       Category 6   Category 7   Category 8   Category 9  Category 10  \n",
      "count  5456.00000  5456.000000  5456.000000  5456.000000  5456.000000  \n",
      "mean      2.89349     3.351395     2.540795     3.126019     2.832729  \n",
      "std       1.28240     1.413492     1.111391     1.356802     1.307665  \n",
      "min       1.11000     1.120000     0.860000     0.840000     0.810000  \n",
      "25%       1.79000     1.930000     1.620000     1.800000     1.640000  \n",
      "50%       2.68000     3.230000     2.170000     2.800000     2.680000  \n",
      "75%       3.84000     5.000000     3.190000     5.000000     3.530000  \n",
      "max       5.00000     5.000000     5.000000     5.000000     5.000000  \n",
      "       Category 12  Category 13  Category 14  Category 15  Category 16  \\\n",
      "count  5455.000000  5456.000000  5456.000000  5456.000000  5456.000000   \n",
      "mean      2.078339     2.125511     2.190861     2.206573     1.192801   \n",
      "std       1.249208     1.406542     1.576686     1.715961     1.107005   \n",
      "min       0.780000     0.770000     0.760000     0.000000     0.000000   \n",
      "25%       1.290000     1.190000     1.030000     0.860000     0.690000   \n",
      "50%       1.690000     1.610000     1.490000     1.330000     0.800000   \n",
      "75%       2.285000     2.360000     2.740000     4.440000     1.160000   \n",
      "max       5.000000     5.000000     5.000000     5.000000     5.000000   \n",
      "\n",
      "       Category 17  Category 18  Category 19  Category 20  \n",
      "count  5456.000000  5456.000000  5456.000000  5456.000000  \n",
      "mean      0.949203     0.822414     0.969811     1.000071  \n",
      "std       0.973536     0.947911     1.203972     1.193891  \n",
      "min       0.000000     0.000000     0.000000     0.000000  \n",
      "25%       0.580000     0.530000     0.520000     0.540000  \n",
      "50%       0.740000     0.690000     0.690000     0.690000  \n",
      "75%       0.910000     0.840000     0.860000     0.860000  \n",
      "max       5.000000     5.000000     5.000000     5.000000  \n",
      "       Category 21  Category 22  Category 23  Category 24\n",
      "count  5456.000000  5456.000000  5456.000000  5455.000000\n",
      "mean      0.965838     1.750537     1.531453     1.560755\n",
      "std       0.929853     1.598734     1.316889     1.171756\n",
      "min       0.000000     0.000000     0.000000     0.000000\n",
      "25%       0.570000     0.740000     0.790000     0.880000\n",
      "50%       0.760000     1.030000     1.070000     1.290000\n",
      "75%       1.000000     2.070000     1.560000     1.660000\n",
      "max       5.000000     5.000000     5.000000     5.000000\n"
     ]
    }
   ],
   "source": [
    "data = df[['Category 1','Category 2','Category 3','Category 4','Category 5', 'Category 6','Category 7','Category 8','Category 9','Category 10']]\n",
    "print(data.describe())\n",
    "data = df[['Category 11','Category 12','Category 13','Category 14','Category 15', 'Category 16','Category 17','Category 18','Category 19','Category 20']]\n",
    "print(data.describe())\n",
    "data = df[['Category 21','Category 22','Category 23','Category 24']]\n",
    "print(data.describe())"
   ]
  },
  {
   "cell_type": "markdown",
   "metadata": {},
   "source": [
    "發現Category 11怪怪的，所以印出來檢查看看資料型別\n",
    "Category 12, 24各有1個缺失值，因為缺失值很少，所以把缺失值的資料刪除。"
   ]
  },
  {
   "cell_type": "code",
   "execution_count": 4,
   "metadata": {},
   "outputs": [
    {
     "name": "stdout",
     "output_type": "stream",
     "text": [
      "<class 'str'>\n"
     ]
    }
   ],
   "source": [
    "print(type(df['Category 11'][1]))\n",
    "df = df[df['Category 12'].notnull()]\n",
    "df = df[df['Category 24'].notnull()]"
   ]
  },
  {
   "cell_type": "markdown",
   "metadata": {},
   "source": [
    "檢查後發現Category 11變成字串型別，做型別轉換後再印出來檢查一次"
   ]
  },
  {
   "cell_type": "code",
   "execution_count": 5,
   "metadata": {},
   "outputs": [
    {
     "name": "stdout",
     "output_type": "stream",
     "text": [
      "        Category 1   Category 2   Category 3   Category 4   Category 5  \\\n",
      "count  5454.000000  5454.000000  5454.000000  5454.000000  5454.000000   \n",
      "mean      1.455746     2.320048     2.489059     2.797103     2.958904   \n",
      "std       0.827732     1.421576     1.247503     1.309188     1.338785   \n",
      "min       0.000000     0.000000     0.000000     0.830000     1.120000   \n",
      "25%       0.920000     1.360000     1.540000     1.730000     1.770000   \n",
      "50%       1.340000     1.910000     2.060000     2.460000     2.670000   \n",
      "75%       1.810000     2.687500     2.740000     4.097500     4.310000   \n",
      "max       5.000000     5.000000     5.000000     5.000000     5.000000   \n",
      "\n",
      "        Category 6   Category 7   Category 8   Category 9  Category 10  \n",
      "count  5454.000000  5454.000000  5454.000000  5454.000000  5454.000000  \n",
      "mean      2.893423     3.351476     2.541177     3.126542     2.832695  \n",
      "std       1.282101     1.413291     1.111398     1.356774     1.307299  \n",
      "min       1.110000     1.120000     0.860000     0.840000     0.810000  \n",
      "25%       1.790000     1.930000     1.620000     1.800000     1.640000  \n",
      "50%       2.680000     3.230000     2.170000     2.800000     2.680000  \n",
      "75%       3.837500     5.000000     3.190000     5.000000     3.527500  \n",
      "max       5.000000     5.000000     5.000000     5.000000     5.000000  \n",
      "       Category 11  Category 12  Category 13  Category 14  Category 15  \\\n",
      "count  5454.000000  5454.000000  5454.000000  5454.000000  5454.000000   \n",
      "mean      2.549622     2.078401     2.125820     2.190429     2.206140   \n",
      "std       1.381498     1.249315     1.406682     1.576505     1.715848   \n",
      "min       0.780000     0.780000     0.770000     0.760000     0.000000   \n",
      "25%       1.580000     1.290000     1.190000     1.030000     0.860000   \n",
      "50%       2.000000     1.690000     1.610000     1.490000     1.330000   \n",
      "75%       3.217500     2.287500     2.360000     2.740000     4.440000   \n",
      "max       5.000000     5.000000     5.000000     5.000000     5.000000   \n",
      "\n",
      "       Category 16  Category 17  Category 18  Category 19  Category 20  \n",
      "count  5454.000000  5454.000000  5454.000000  5454.000000  5454.000000  \n",
      "mean      1.192710     0.949349     0.822525     0.969250     0.999626  \n",
      "std       1.107176     0.973628     0.948015     1.202883     1.193129  \n",
      "min       0.000000     0.000000     0.000000     0.000000     0.000000  \n",
      "25%       0.690000     0.580000     0.530000     0.520000     0.540000  \n",
      "50%       0.800000     0.740000     0.690000     0.690000     0.690000  \n",
      "75%       1.160000     0.910000     0.840000     0.860000     0.860000  \n",
      "max       5.000000     5.000000     5.000000     5.000000     5.000000  \n",
      "       Category 21  Category 22  Category 23  Category 24\n",
      "count  5454.000000  5454.000000  5454.000000  5454.000000\n",
      "mean      0.965275     1.749345     1.531051     1.560570\n",
      "std       0.928326     1.597816     1.316180     1.171784\n",
      "min       0.000000     0.000000     0.000000     0.000000\n",
      "25%       0.570000     0.740000     0.790000     0.880000\n",
      "50%       0.760000     1.030000     1.070000     1.290000\n",
      "75%       1.000000     2.070000     1.560000     1.660000\n",
      "max       5.000000     5.000000     5.000000     5.000000\n"
     ]
    }
   ],
   "source": [
    "df['Category 11'] = df['Category 11'].astype(float)\n",
    "data = df[['Category 1','Category 2','Category 3','Category 4','Category 5', 'Category 6','Category 7','Category 8','Category 9','Category 10']]\n",
    "print(data.describe())\n",
    "data = df[['Category 11','Category 12','Category 13','Category 14','Category 15', 'Category 16','Category 17','Category 18','Category 19','Category 20']]\n",
    "print(data.describe())\n",
    "data = df[['Category 21','Category 22','Category 23','Category 24']]\n",
    "print(data.describe())"
   ]
  },
  {
   "cell_type": "markdown",
   "metadata": {},
   "source": [
    "### 轉換類別資料\n",
    "把編號和要分析的feature分開來"
   ]
  },
  {
   "cell_type": "code",
   "execution_count": 6,
   "metadata": {},
   "outputs": [],
   "source": [
    "data = df[['Category 1','Category 2','Category 3','Category 4','Category 5', 'Category 6','Category 7','Category 8','Category 9','Category 10','Category 11','Category 12','Category 13','Category 14','Category 15', 'Category 16','Category 17','Category 18','Category 19','Category 20','Category 21','Category 22','Category 23','Category 24']]\n",
    "name = df[['User']]"
   ]
  },
  {
   "cell_type": "markdown",
   "metadata": {},
   "source": [
    "## 模型訓練"
   ]
  },
  {
   "cell_type": "markdown",
   "metadata": {},
   "source": [
    "匯入需要的套件"
   ]
  },
  {
   "cell_type": "code",
   "execution_count": 7,
   "metadata": {},
   "outputs": [],
   "source": [
    "from sklearn.cluster import KMeans"
   ]
  },
  {
   "cell_type": "markdown",
   "metadata": {},
   "source": [
    "### K-means"
   ]
  },
  {
   "cell_type": "code",
   "execution_count": 8,
   "metadata": {},
   "outputs": [
    {
     "data": {
      "text/plain": [
       "KMeans(algorithm='auto', copy_x=True, init='k-means++', max_iter=300,\n",
       "       n_clusters=3, n_init=10, n_jobs=None, precompute_distances='auto',\n",
       "       random_state=None, tol=0.0001, verbose=0)"
      ]
     },
     "execution_count": 8,
     "metadata": {},
     "output_type": "execute_result"
    }
   ],
   "source": [
    "model = KMeans(n_clusters = 3)\n",
    "model.fit(data)"
   ]
  },
  {
   "cell_type": "code",
   "execution_count": 9,
   "metadata": {},
   "outputs": [
    {
     "name": "stdout",
     "output_type": "stream",
     "text": [
      "total execution time: 1.2950403690338135\n"
     ]
    }
   ],
   "source": [
    "# 請勿更動此區塊程式碼\n",
    "\n",
    "EXECUTION_END_TIME = time.time() # 計算執行時間\n",
    "print('total execution time: {}'.format(EXECUTION_END_TIME - EXECUTION_START_TIME))"
   ]
  }
 ],
 "metadata": {
  "kernelspec": {
   "display_name": "Python 3",
   "language": "python",
   "name": "python3"
  },
  "language_info": {
   "codemirror_mode": {
    "name": "ipython",
    "version": 3
   },
   "file_extension": ".py",
   "mimetype": "text/x-python",
   "name": "python",
   "nbconvert_exporter": "python",
   "pygments_lexer": "ipython3",
   "version": "3.7.0"
  }
 },
 "nbformat": 4,
 "nbformat_minor": 4
}
