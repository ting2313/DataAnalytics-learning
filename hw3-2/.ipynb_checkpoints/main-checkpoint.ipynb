{
 "cells": [
  {
   "cell_type": "markdown",
   "metadata": {},
   "source": [
    "## 前處理\n",
    "### 讀入資料庫"
   ]
  },
  {
   "cell_type": "code",
   "execution_count": 43,
   "metadata": {},
   "outputs": [],
   "source": [
    "import time\n",
    "import numpy as np\n",
    "import pandas as pd\n",
    "\n",
    "EXECUTION_START_TIME = time.time()\n",
    "\n",
    "df = pd.read_csv('google_review_ratings.csv')"
   ]
  },
  {
   "cell_type": "code",
   "execution_count": 2,
   "metadata": {},
   "outputs": [],
   "source": [
    "# import\n",
    "pd.options.mode.chained_assignment = None      # 解決會噴 warning 的狀況\n",
    "\n",
    "import matplotlib.pyplot as plt\n",
    "import seaborn as sns"
   ]
  },
  {
   "cell_type": "markdown",
   "metadata": {},
   "source": [
    "### 填補缺失值\n",
    "先檢查是否有缺失值"
   ]
  },
  {
   "cell_type": "code",
   "execution_count": 50,
   "metadata": {},
   "outputs": [
    {
     "name": "stdout",
     "output_type": "stream",
     "text": [
      "        Category 1   Category 2   Category 3   Category 4   Category 5  \\\n",
      "count  5454.000000  5454.000000  5454.000000  5454.000000  5454.000000   \n",
      "mean      1.455746     2.320048     2.489059     2.797103     2.958904   \n",
      "std       0.827732     1.421576     1.247503     1.309188     1.338785   \n",
      "min       0.000000     0.000000     0.000000     0.830000     1.120000   \n",
      "25%       0.920000     1.360000     1.540000     1.730000     1.770000   \n",
      "50%       1.340000     1.910000     2.060000     2.460000     2.670000   \n",
      "75%       1.810000     2.687500     2.740000     4.097500     4.310000   \n",
      "max       5.000000     5.000000     5.000000     5.000000     5.000000   \n",
      "\n",
      "        Category 6   Category 7   Category 8   Category 9  Category 10  \n",
      "count  5454.000000  5454.000000  5454.000000  5454.000000  5454.000000  \n",
      "mean      2.893423     3.351476     2.541177     3.126542     2.832695  \n",
      "std       1.282101     1.413291     1.111398     1.356774     1.307299  \n",
      "min       1.110000     1.120000     0.860000     0.840000     0.810000  \n",
      "25%       1.790000     1.930000     1.620000     1.800000     1.640000  \n",
      "50%       2.680000     3.230000     2.170000     2.800000     2.680000  \n",
      "75%       3.837500     5.000000     3.190000     5.000000     3.527500  \n",
      "max       5.000000     5.000000     5.000000     5.000000     5.000000  \n",
      "       Category 11  Category 12  Category 13  Category 14  Category 15  \\\n",
      "count  5454.000000  5454.000000  5454.000000  5454.000000  5454.000000   \n",
      "mean      2.549622     2.078401     2.125820     2.190429     2.206140   \n",
      "std       1.381498     1.249315     1.406682     1.576505     1.715848   \n",
      "min       0.780000     0.780000     0.770000     0.760000     0.000000   \n",
      "25%       1.580000     1.290000     1.190000     1.030000     0.860000   \n",
      "50%       2.000000     1.690000     1.610000     1.490000     1.330000   \n",
      "75%       3.217500     2.287500     2.360000     2.740000     4.440000   \n",
      "max       5.000000     5.000000     5.000000     5.000000     5.000000   \n",
      "\n",
      "       Category 16  Category 17  Category 18  Category 19  Category 20  \n",
      "count  5454.000000  5454.000000  5454.000000  5454.000000  5454.000000  \n",
      "mean      1.192710     0.949349     0.822525     0.969250     0.999626  \n",
      "std       1.107176     0.973628     0.948015     1.202883     1.193129  \n",
      "min       0.000000     0.000000     0.000000     0.000000     0.000000  \n",
      "25%       0.690000     0.580000     0.530000     0.520000     0.540000  \n",
      "50%       0.800000     0.740000     0.690000     0.690000     0.690000  \n",
      "75%       1.160000     0.910000     0.840000     0.860000     0.860000  \n",
      "max       5.000000     5.000000     5.000000     5.000000     5.000000  \n",
      "       Category 21  Category 22  Category 23  Category 24\n",
      "count  5454.000000  5454.000000  5454.000000  5454.000000\n",
      "mean      0.965275     1.749345     1.531051     1.560570\n",
      "std       0.928326     1.597816     1.316180     1.171784\n",
      "min       0.000000     0.000000     0.000000     0.000000\n",
      "25%       0.570000     0.740000     0.790000     0.880000\n",
      "50%       0.760000     1.030000     1.070000     1.290000\n",
      "75%       1.000000     2.070000     1.560000     1.660000\n",
      "max       5.000000     5.000000     5.000000     5.000000\n"
     ]
    }
   ],
   "source": [
    "data = df[['Category 1','Category 2','Category 3','Category 4','Category 5', 'Category 6','Category 7','Category 8','Category 9','Category 10']]\n",
    "print(data.describe())\n",
    "data = df[['Category 11','Category 12','Category 13','Category 14','Category 15', 'Category 16','Category 17','Category 18','Category 19','Category 20']]\n",
    "print(data.describe())\n",
    "data = df[['Category 21','Category 22','Category 23','Category 24']]\n",
    "print(data.describe())"
   ]
  },
  {
   "cell_type": "markdown",
   "metadata": {},
   "source": [
    "發現Category 11怪怪的，所以印出來檢查看看資料型別\n",
    "Category 12, 24各有1個缺失值，因為缺失值很少，所以把缺失值的資料刪除。"
   ]
  },
  {
   "cell_type": "code",
   "execution_count": 47,
   "metadata": {},
   "outputs": [
    {
     "name": "stdout",
     "output_type": "stream",
     "text": [
      "<class 'str'>\n"
     ]
    }
   ],
   "source": [
    "print(type(df['Category 11'][1]))\n",
    "df = df[df['Category 12'].notnull()]\n",
    "df = df[df['Category 24'].notnull()]"
   ]
  },
  {
   "cell_type": "markdown",
   "metadata": {},
   "source": [
    "檢查後發現Category 11變成字串型別，做型別轉換後再印出來檢查一次"
   ]
  },
  {
   "cell_type": "code",
   "execution_count": 49,
   "metadata": {},
   "outputs": [
    {
     "name": "stdout",
     "output_type": "stream",
     "text": [
      "        Category 1   Category 2   Category 3   Category 4   Category 5  \\\n",
      "count  5454.000000  5454.000000  5454.000000  5454.000000  5454.000000   \n",
      "mean      1.455746     2.320048     2.489059     2.797103     2.958904   \n",
      "std       0.827732     1.421576     1.247503     1.309188     1.338785   \n",
      "min       0.000000     0.000000     0.000000     0.830000     1.120000   \n",
      "25%       0.920000     1.360000     1.540000     1.730000     1.770000   \n",
      "50%       1.340000     1.910000     2.060000     2.460000     2.670000   \n",
      "75%       1.810000     2.687500     2.740000     4.097500     4.310000   \n",
      "max       5.000000     5.000000     5.000000     5.000000     5.000000   \n",
      "\n",
      "        Category 6   Category 7   Category 8   Category 9  Category 10  ...  \\\n",
      "count  5454.000000  5454.000000  5454.000000  5454.000000  5454.000000  ...   \n",
      "mean      2.893423     3.351476     2.541177     3.126542     2.832695  ...   \n",
      "std       1.282101     1.413291     1.111398     1.356774     1.307299  ...   \n",
      "min       1.110000     1.120000     0.860000     0.840000     0.810000  ...   \n",
      "25%       1.790000     1.930000     1.620000     1.800000     1.640000  ...   \n",
      "50%       2.680000     3.230000     2.170000     2.800000     2.680000  ...   \n",
      "75%       3.837500     5.000000     3.190000     5.000000     3.527500  ...   \n",
      "max       5.000000     5.000000     5.000000     5.000000     5.000000  ...   \n",
      "\n",
      "       Category 16  Category 17  Category 18  Category 19  Category 20  \\\n",
      "count  5454.000000  5454.000000  5454.000000  5454.000000  5454.000000   \n",
      "mean      1.192710     0.949349     0.822525     0.969250     0.999626   \n",
      "std       1.107176     0.973628     0.948015     1.202883     1.193129   \n",
      "min       0.000000     0.000000     0.000000     0.000000     0.000000   \n",
      "25%       0.690000     0.580000     0.530000     0.520000     0.540000   \n",
      "50%       0.800000     0.740000     0.690000     0.690000     0.690000   \n",
      "75%       1.160000     0.910000     0.840000     0.860000     0.860000   \n",
      "max       5.000000     5.000000     5.000000     5.000000     5.000000   \n",
      "\n",
      "       Category 21  Category 22  Category 23  Category 24  Unnamed: 25  \n",
      "count  5454.000000  5454.000000  5454.000000  5454.000000          0.0  \n",
      "mean      0.965275     1.749345     1.531051     1.560570          NaN  \n",
      "std       0.928326     1.597816     1.316180     1.171784          NaN  \n",
      "min       0.000000     0.000000     0.000000     0.000000          NaN  \n",
      "25%       0.570000     0.740000     0.790000     0.880000          NaN  \n",
      "50%       0.760000     1.030000     1.070000     1.290000          NaN  \n",
      "75%       1.000000     2.070000     1.560000     1.660000          NaN  \n",
      "max       5.000000     5.000000     5.000000     5.000000          NaN  \n",
      "\n",
      "[8 rows x 25 columns]\n"
     ]
    }
   ],
   "source": [
    "df['Category 11'] = df['Category 11'].astype(float)\n",
    "data = df[['Category 1','Category 2','Category 3','Category 4','Category 5', 'Category 6','Category 7','Category 8','Category 9','Category 10']]\n",
    "print(data.describe())\n",
    "data = df[['Category 11','Category 12','Category 13','Category 14','Category 15', 'Category 16','Category 17','Category 18','Category 19','Category 20']]\n",
    "print(data.describe())\n",
    "data = df[['Category 21','Category 22','Category 23','Category 24']]\n",
    "print(data.describe())"
   ]
  },
  {
   "cell_type": "markdown",
   "metadata": {},
   "source": [
    "### 轉換類別資料\n",
    "把編號和要分析的feature分開來"
   ]
  },
  {
   "cell_type": "code",
   "execution_count": 18,
   "metadata": {},
   "outputs": [
    {
     "data": {
      "text/html": [
       "<div>\n",
       "<style scoped>\n",
       "    .dataframe tbody tr th:only-of-type {\n",
       "        vertical-align: middle;\n",
       "    }\n",
       "\n",
       "    .dataframe tbody tr th {\n",
       "        vertical-align: top;\n",
       "    }\n",
       "\n",
       "    .dataframe thead th {\n",
       "        text-align: right;\n",
       "    }\n",
       "</style>\n",
       "<table border=\"1\" class=\"dataframe\">\n",
       "  <thead>\n",
       "    <tr style=\"text-align: right;\">\n",
       "      <th></th>\n",
       "      <th>Category 12</th>\n",
       "      <th>Category 13</th>\n",
       "      <th>Category 14</th>\n",
       "      <th>Category 15</th>\n",
       "    </tr>\n",
       "  </thead>\n",
       "  <tbody>\n",
       "    <tr>\n",
       "      <th>count</th>\n",
       "      <td>5455.000000</td>\n",
       "      <td>5456.000000</td>\n",
       "      <td>5456.000000</td>\n",
       "      <td>5456.000000</td>\n",
       "    </tr>\n",
       "    <tr>\n",
       "      <th>mean</th>\n",
       "      <td>2.078339</td>\n",
       "      <td>2.125511</td>\n",
       "      <td>2.190861</td>\n",
       "      <td>2.206573</td>\n",
       "    </tr>\n",
       "    <tr>\n",
       "      <th>std</th>\n",
       "      <td>1.249208</td>\n",
       "      <td>1.406542</td>\n",
       "      <td>1.576686</td>\n",
       "      <td>1.715961</td>\n",
       "    </tr>\n",
       "    <tr>\n",
       "      <th>min</th>\n",
       "      <td>0.780000</td>\n",
       "      <td>0.770000</td>\n",
       "      <td>0.760000</td>\n",
       "      <td>0.000000</td>\n",
       "    </tr>\n",
       "    <tr>\n",
       "      <th>25%</th>\n",
       "      <td>1.290000</td>\n",
       "      <td>1.190000</td>\n",
       "      <td>1.030000</td>\n",
       "      <td>0.860000</td>\n",
       "    </tr>\n",
       "    <tr>\n",
       "      <th>50%</th>\n",
       "      <td>1.690000</td>\n",
       "      <td>1.610000</td>\n",
       "      <td>1.490000</td>\n",
       "      <td>1.330000</td>\n",
       "    </tr>\n",
       "    <tr>\n",
       "      <th>75%</th>\n",
       "      <td>2.285000</td>\n",
       "      <td>2.360000</td>\n",
       "      <td>2.740000</td>\n",
       "      <td>4.440000</td>\n",
       "    </tr>\n",
       "    <tr>\n",
       "      <th>max</th>\n",
       "      <td>5.000000</td>\n",
       "      <td>5.000000</td>\n",
       "      <td>5.000000</td>\n",
       "      <td>5.000000</td>\n",
       "    </tr>\n",
       "  </tbody>\n",
       "</table>\n",
       "</div>"
      ],
      "text/plain": [
       "       Category 12  Category 13  Category 14  Category 15\n",
       "count  5455.000000  5456.000000  5456.000000  5456.000000\n",
       "mean      2.078339     2.125511     2.190861     2.206573\n",
       "std       1.249208     1.406542     1.576686     1.715961\n",
       "min       0.780000     0.770000     0.760000     0.000000\n",
       "25%       1.290000     1.190000     1.030000     0.860000\n",
       "50%       1.690000     1.610000     1.490000     1.330000\n",
       "75%       2.285000     2.360000     2.740000     4.440000\n",
       "max       5.000000     5.000000     5.000000     5.000000"
      ]
     },
     "execution_count": 18,
     "metadata": {},
     "output_type": "execute_result"
    }
   ],
   "source": [
    "data = df[['Category 1','Category 2','Category 3','Category 4','Category 5', 'Category 6','Category 7','Category 8','Category 9','Category 10','Category 11','Category 12','Category 13','Category 14','Category 15', 'Category 16','Category 17','Category 18','Category 19','Category 20','Category 21','Category 22','Category 23','Category 24']]\n",
    "name = df[['User']]"
   ]
  },
  {
   "cell_type": "markdown",
   "metadata": {},
   "source": [
    "## 模型訓練"
   ]
  },
  {
   "cell_type": "markdown",
   "metadata": {},
   "source": [
    "匯入需要的套件"
   ]
  },
  {
   "cell_type": "code",
   "execution_count": 4,
   "metadata": {},
   "outputs": [],
   "source": [
    "from sklearn.cluster import KMeans"
   ]
  },
  {
   "cell_type": "markdown",
   "metadata": {},
   "source": [
    "### 線性迴歸"
   ]
  },
  {
   "cell_type": "code",
   "execution_count": 17,
   "metadata": {},
   "outputs": [
    {
     "ename": "ValueError",
     "evalue": "could not convert string to float: '2\\t2.'",
     "output_type": "error",
     "traceback": [
      "\u001b[0;31m---------------------------------------------------------------------------\u001b[0m",
      "\u001b[0;31mValueError\u001b[0m                                Traceback (most recent call last)",
      "\u001b[0;32m<ipython-input-17-1e328b128328>\u001b[0m in \u001b[0;36m<module>\u001b[0;34m\u001b[0m\n\u001b[1;32m      1\u001b[0m \u001b[0mmodel\u001b[0m \u001b[0;34m=\u001b[0m \u001b[0mKMeans\u001b[0m\u001b[0;34m(\u001b[0m\u001b[0mn_clusters\u001b[0m \u001b[0;34m=\u001b[0m \u001b[0;36m3\u001b[0m\u001b[0;34m)\u001b[0m\u001b[0;34m\u001b[0m\u001b[0m\n\u001b[0;32m----> 2\u001b[0;31m \u001b[0mmodel\u001b[0m\u001b[0;34m.\u001b[0m\u001b[0mfit\u001b[0m\u001b[0;34m(\u001b[0m\u001b[0mdata\u001b[0m\u001b[0;34m)\u001b[0m\u001b[0;34m\u001b[0m\u001b[0m\n\u001b[0m",
      "\u001b[0;32m~/.local/lib/python3.7/site-packages/sklearn/cluster/_kmeans.py\u001b[0m in \u001b[0;36mfit\u001b[0;34m(self, X, y, sample_weight)\u001b[0m\n\u001b[1;32m    857\u001b[0m         \u001b[0morder\u001b[0m \u001b[0;34m=\u001b[0m \u001b[0;34m\"C\"\u001b[0m \u001b[0;32mif\u001b[0m \u001b[0mself\u001b[0m\u001b[0;34m.\u001b[0m\u001b[0mcopy_x\u001b[0m \u001b[0;32melse\u001b[0m \u001b[0;32mNone\u001b[0m\u001b[0;34m\u001b[0m\u001b[0m\n\u001b[1;32m    858\u001b[0m         X = check_array(X, accept_sparse='csr', dtype=[np.float64, np.float32],\n\u001b[0;32m--> 859\u001b[0;31m                         order=order, copy=self.copy_x)\n\u001b[0m\u001b[1;32m    860\u001b[0m         \u001b[0;31m# verify that the number of samples given is larger than k\u001b[0m\u001b[0;34m\u001b[0m\u001b[0;34m\u001b[0m\u001b[0m\n\u001b[1;32m    861\u001b[0m         \u001b[0;32mif\u001b[0m \u001b[0m_num_samples\u001b[0m\u001b[0;34m(\u001b[0m\u001b[0mX\u001b[0m\u001b[0;34m)\u001b[0m \u001b[0;34m<\u001b[0m \u001b[0mself\u001b[0m\u001b[0;34m.\u001b[0m\u001b[0mn_clusters\u001b[0m\u001b[0;34m:\u001b[0m\u001b[0;34m\u001b[0m\u001b[0m\n",
      "\u001b[0;32m~/.local/lib/python3.7/site-packages/sklearn/utils/validation.py\u001b[0m in \u001b[0;36mcheck_array\u001b[0;34m(array, accept_sparse, accept_large_sparse, dtype, order, copy, force_all_finite, ensure_2d, allow_nd, ensure_min_samples, ensure_min_features, warn_on_dtype, estimator)\u001b[0m\n\u001b[1;32m    529\u001b[0m                     \u001b[0marray\u001b[0m \u001b[0;34m=\u001b[0m \u001b[0marray\u001b[0m\u001b[0;34m.\u001b[0m\u001b[0mastype\u001b[0m\u001b[0;34m(\u001b[0m\u001b[0mdtype\u001b[0m\u001b[0;34m,\u001b[0m \u001b[0mcasting\u001b[0m\u001b[0;34m=\u001b[0m\u001b[0;34m\"unsafe\"\u001b[0m\u001b[0;34m,\u001b[0m \u001b[0mcopy\u001b[0m\u001b[0;34m=\u001b[0m\u001b[0;32mFalse\u001b[0m\u001b[0;34m)\u001b[0m\u001b[0;34m\u001b[0m\u001b[0m\n\u001b[1;32m    530\u001b[0m                 \u001b[0;32melse\u001b[0m\u001b[0;34m:\u001b[0m\u001b[0;34m\u001b[0m\u001b[0m\n\u001b[0;32m--> 531\u001b[0;31m                     \u001b[0marray\u001b[0m \u001b[0;34m=\u001b[0m \u001b[0mnp\u001b[0m\u001b[0;34m.\u001b[0m\u001b[0masarray\u001b[0m\u001b[0;34m(\u001b[0m\u001b[0marray\u001b[0m\u001b[0;34m,\u001b[0m \u001b[0morder\u001b[0m\u001b[0;34m=\u001b[0m\u001b[0morder\u001b[0m\u001b[0;34m,\u001b[0m \u001b[0mdtype\u001b[0m\u001b[0;34m=\u001b[0m\u001b[0mdtype\u001b[0m\u001b[0;34m)\u001b[0m\u001b[0;34m\u001b[0m\u001b[0m\n\u001b[0m\u001b[1;32m    532\u001b[0m             \u001b[0;32mexcept\u001b[0m \u001b[0mComplexWarning\u001b[0m\u001b[0;34m:\u001b[0m\u001b[0;34m\u001b[0m\u001b[0m\n\u001b[1;32m    533\u001b[0m                 raise ValueError(\"Complex data not supported\\n\"\n",
      "\u001b[0;32m~/.local/lib/python3.7/site-packages/numpy/core/_asarray.py\u001b[0m in \u001b[0;36masarray\u001b[0;34m(a, dtype, order)\u001b[0m\n\u001b[1;32m     83\u001b[0m \u001b[0;34m\u001b[0m\u001b[0m\n\u001b[1;32m     84\u001b[0m     \"\"\"\n\u001b[0;32m---> 85\u001b[0;31m     \u001b[0;32mreturn\u001b[0m \u001b[0marray\u001b[0m\u001b[0;34m(\u001b[0m\u001b[0ma\u001b[0m\u001b[0;34m,\u001b[0m \u001b[0mdtype\u001b[0m\u001b[0;34m,\u001b[0m \u001b[0mcopy\u001b[0m\u001b[0;34m=\u001b[0m\u001b[0;32mFalse\u001b[0m\u001b[0;34m,\u001b[0m \u001b[0morder\u001b[0m\u001b[0;34m=\u001b[0m\u001b[0morder\u001b[0m\u001b[0;34m)\u001b[0m\u001b[0;34m\u001b[0m\u001b[0m\n\u001b[0m\u001b[1;32m     86\u001b[0m \u001b[0;34m\u001b[0m\u001b[0m\n\u001b[1;32m     87\u001b[0m \u001b[0;34m\u001b[0m\u001b[0m\n",
      "\u001b[0;31mValueError\u001b[0m: could not convert string to float: '2\\t2.'"
     ]
    }
   ],
   "source": [
    "model = KMeans(n_clusters = 3)\n",
    "model.fit(data)"
   ]
  },
  {
   "cell_type": "markdown",
   "metadata": {},
   "source": [
    "### NN"
   ]
  },
  {
   "cell_type": "code",
   "execution_count": 13,
   "metadata": {},
   "outputs": [
    {
     "name": "stdout",
     "output_type": "stream",
     "text": [
      "109\n",
      "72\n",
      "38\n",
      "29\n",
      "Recall:0.7898550724637681\n",
      "Position:0.6022099447513812\n",
      "Accuracy:0.592741935483871\n"
     ]
    }
   ],
   "source": [
    "model = MLPClassifier(solver='adam', random_state=1010,max_iter=1000)\n",
    "model.fit(train_x,train_y['close'])\n",
    "\n",
    "predict = model.predict(test_x)\n",
    "\n",
    "tp = 0\n",
    "tn = 0\n",
    "fp = 0\n",
    "fn = 0\n",
    "\n",
    "for index in range(0,len(predict)) :\n",
    "    if predict[index]==1:\n",
    "        if train_y['close'][index]==1:\n",
    "            tp = tp + 1\n",
    "        else:\n",
    "            fp = fp + 1\n",
    "    else:\n",
    "        if train_y['close'][index]==1:\n",
    "            fn = fn + 1\n",
    "        else:\n",
    "            tn = tn + 1\n",
    "print(tp)\n",
    "print(fp)\n",
    "print(tn)\n",
    "print(fn)\n",
    "\n",
    "print(\"Recall:{}\".format(tp/(tp+fn)))\n",
    "print(\"Position:{}\".format(tp/(tp+fp)))\n",
    "print(\"Accuracy:{}\".format((tp+tn)/(tp+fp+tn+fn)))"
   ]
  },
  {
   "cell_type": "markdown",
   "metadata": {},
   "source": [
    "### Ensemble"
   ]
  },
  {
   "cell_type": "code",
   "execution_count": 14,
   "metadata": {},
   "outputs": [
    {
     "name": "stdout",
     "output_type": "stream",
     "text": [
      "104\n",
      "72\n",
      "38\n",
      "34\n",
      "Recall:0.7536231884057971\n",
      "Position:0.5909090909090909\n",
      "Accuracy:0.5725806451612904\n"
     ]
    }
   ],
   "source": [
    "model = RandomForestClassifier(random_state=1012,n_estimators=500)\n",
    "model.fit(train_x,train_y['close'])\n",
    "\n",
    "predict = model.predict(test_x)\n",
    "\n",
    "tp = 0\n",
    "tn = 0\n",
    "fp = 0\n",
    "fn = 0\n",
    "\n",
    "for index in range(0,len(predict)) :\n",
    "    if predict[index]==1:\n",
    "        if train_y['close'][index]==1:\n",
    "            tp = tp + 1\n",
    "        else:\n",
    "            fp = fp + 1\n",
    "    else:\n",
    "        if train_y['close'][index]==1:\n",
    "            fn = fn + 1\n",
    "        else:\n",
    "            tn = tn + 1\n",
    "print(tp)\n",
    "print(fp)\n",
    "print(tn)\n",
    "print(fn)\n",
    "\n",
    "print(\"Recall:{}\".format(tp/(tp+fn)))\n",
    "print(\"Position:{}\".format(tp/(tp+fp)))\n",
    "print(\"Accuracy:{}\".format((tp+tn)/(tp+fp+tn+fn)))"
   ]
  },
  {
   "cell_type": "code",
   "execution_count": 15,
   "metadata": {},
   "outputs": [
    {
     "name": "stdout",
     "output_type": "stream",
     "text": [
      "total execution time: 5.140761852264404\n"
     ]
    }
   ],
   "source": [
    "# 請勿更動此區塊程式碼\n",
    "\n",
    "EXECUTION_END_TIME = time.time() # 計算執行時間\n",
    "print('total execution time: {}'.format(EXECUTION_END_TIME - EXECUTION_START_TIME))"
   ]
  }
 ],
 "metadata": {
  "kernelspec": {
   "display_name": "Python 3",
   "language": "python",
   "name": "python3"
  },
  "language_info": {
   "codemirror_mode": {
    "name": "ipython",
    "version": 3
   },
   "file_extension": ".py",
   "mimetype": "text/x-python",
   "name": "python",
   "nbconvert_exporter": "python",
   "pygments_lexer": "ipython3",
   "version": "3.7.0"
  }
 },
 "nbformat": 4,
 "nbformat_minor": 4
}
