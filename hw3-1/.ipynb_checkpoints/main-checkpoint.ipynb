{
 "cells": [
  {
   "cell_type": "code",
   "execution_count": 1,
   "metadata": {},
   "outputs": [
    {
     "name": "stderr",
     "output_type": "stream",
     "text": [
      "/home/tingyu/.local/lib/python3.7/site-packages/pandas/compat/__init__.py:117: UserWarning: Could not import the lzma module. Your installed Python is incomplete. Attempting to use lzma compression will result in a RuntimeError.\n",
      "  warnings.warn(msg)\n"
     ]
    }
   ],
   "source": [
    "# 請勿更動此區塊程式碼\n",
    "\n",
    "import time\n",
    "import numpy as np\n",
    "import pandas as pd\n",
    "\n",
    "EXECUTION_START_TIME = time.time()\n",
    "\n",
    "df = pd.read_csv('data.csv')\n",
    "df_test = pd.read_csv('test.csv')"
   ]
  },
  {
   "cell_type": "markdown",
   "metadata": {},
   "source": [
    "## 資料分析與前處理"
   ]
  },
  {
   "cell_type": "code",
   "execution_count": 2,
   "metadata": {},
   "outputs": [],
   "source": [
    "# import\n",
    "pd.options.mode.chained_assignment = None      # 解決會噴 warning 的狀況\n",
    "\n",
    "from sklearn.impute import SimpleImputer       # 匯入填補缺失值的工具\n",
    "from sklearn.preprocessing import LabelEncoder # 匯入 Label Encoder\n",
    "import matplotlib.pyplot as plt\n",
    "import seaborn as sns"
   ]
  },
  {
   "cell_type": "markdown",
   "metadata": {},
   "source": [
    "### 處理缺失值\n",
    "檢查資料庫是否有缺失值，由count欄位可以確定沒有。"
   ]
  },
  {
   "cell_type": "code",
   "execution_count": 4,
   "metadata": {},
   "outputs": [
    {
     "data": {
      "text/html": [
       "<div>\n",
       "<style scoped>\n",
       "    .dataframe tbody tr th:only-of-type {\n",
       "        vertical-align: middle;\n",
       "    }\n",
       "\n",
       "    .dataframe tbody tr th {\n",
       "        vertical-align: top;\n",
       "    }\n",
       "\n",
       "    .dataframe thead th {\n",
       "        text-align: right;\n",
       "    }\n",
       "</style>\n",
       "<table border=\"1\" class=\"dataframe\">\n",
       "  <thead>\n",
       "    <tr style=\"text-align: right;\">\n",
       "      <th></th>\n",
       "      <th>Open Price</th>\n",
       "      <th>High Price</th>\n",
       "      <th>Close Price</th>\n",
       "      <th>Low Price</th>\n",
       "      <th>Volume</th>\n",
       "    </tr>\n",
       "  </thead>\n",
       "  <tbody>\n",
       "    <tr>\n",
       "      <th>count</th>\n",
       "      <td>252.000000</td>\n",
       "      <td>252.000000</td>\n",
       "      <td>252.000000</td>\n",
       "      <td>252.000000</td>\n",
       "      <td>2.520000e+02</td>\n",
       "    </tr>\n",
       "    <tr>\n",
       "      <th>mean</th>\n",
       "      <td>2747.910397</td>\n",
       "      <td>2762.747778</td>\n",
       "      <td>2746.030873</td>\n",
       "      <td>2730.143929</td>\n",
       "      <td>2.154050e+09</td>\n",
       "    </tr>\n",
       "    <tr>\n",
       "      <th>std</th>\n",
       "      <td>99.017479</td>\n",
       "      <td>92.991345</td>\n",
       "      <td>100.251272</td>\n",
       "      <td>106.490954</td>\n",
       "      <td>4.538626e+08</td>\n",
       "    </tr>\n",
       "    <tr>\n",
       "      <th>min</th>\n",
       "      <td>2363.120000</td>\n",
       "      <td>2410.340000</td>\n",
       "      <td>2351.100000</td>\n",
       "      <td>2346.580000</td>\n",
       "      <td>9.516523e+08</td>\n",
       "    </tr>\n",
       "    <tr>\n",
       "      <th>25%</th>\n",
       "      <td>2689.465000</td>\n",
       "      <td>2705.847500</td>\n",
       "      <td>2690.512500</td>\n",
       "      <td>2663.677500</td>\n",
       "      <td>1.879841e+09</td>\n",
       "    </tr>\n",
       "    <tr>\n",
       "      <th>50%</th>\n",
       "      <td>2742.170000</td>\n",
       "      <td>2755.575000</td>\n",
       "      <td>2741.920000</td>\n",
       "      <td>2725.290000</td>\n",
       "      <td>2.063820e+09</td>\n",
       "    </tr>\n",
       "    <tr>\n",
       "      <th>75%</th>\n",
       "      <td>2811.430000</td>\n",
       "      <td>2824.802500</td>\n",
       "      <td>2814.322500</td>\n",
       "      <td>2800.630000</td>\n",
       "      <td>2.341078e+09</td>\n",
       "    </tr>\n",
       "    <tr>\n",
       "      <th>max</th>\n",
       "      <td>2936.760000</td>\n",
       "      <td>2940.910000</td>\n",
       "      <td>2930.750000</td>\n",
       "      <td>2927.110000</td>\n",
       "      <td>4.560164e+09</td>\n",
       "    </tr>\n",
       "  </tbody>\n",
       "</table>\n",
       "</div>"
      ],
      "text/plain": [
       "        Open Price   High Price  Close Price    Low Price        Volume\n",
       "count   252.000000   252.000000   252.000000   252.000000  2.520000e+02\n",
       "mean   2747.910397  2762.747778  2746.030873  2730.143929  2.154050e+09\n",
       "std      99.017479    92.991345   100.251272   106.490954  4.538626e+08\n",
       "min    2363.120000  2410.340000  2351.100000  2346.580000  9.516523e+08\n",
       "25%    2689.465000  2705.847500  2690.512500  2663.677500  1.879841e+09\n",
       "50%    2742.170000  2755.575000  2741.920000  2725.290000  2.063820e+09\n",
       "75%    2811.430000  2824.802500  2814.322500  2800.630000  2.341078e+09\n",
       "max    2936.760000  2940.910000  2930.750000  2927.110000  4.560164e+09"
      ]
     },
     "execution_count": 4,
     "metadata": {},
     "output_type": "execute_result"
    }
   ],
   "source": [
    "data = df[['Open Price','High Price', 'Close Price','Low Price', 'Volume']]\n",
    "test = df_test[['Open Price','High Price', 'Close Price','Low Price', 'Volume']]\n",
    "\n",
    "data.describe()\n",
    "test.describe()"
   ]
  },
  {
   "cell_type": "markdown",
   "metadata": {},
   "source": [
    "### 轉換日期資料\n",
    "為了方便計算，為每個條目新增日期"
   ]
  },
  {
   "cell_type": "code",
   "execution_count": null,
   "metadata": {},
   "outputs": [],
   "source": [
    "data['Date'] = range(0,len(data.index))\n",
    "test['Date'] = range(0,len(test.index))"
   ]
  },
  {
   "cell_type": "markdown",
   "metadata": {},
   "source": [
    "### 轉換資料\n",
    "目的是用前四筆資料之間的差值預測第五筆，因此要先將前四筆的資料彙整。"
   ]
  },
  {
   "cell_type": "code",
   "execution_count": null,
   "metadata": {},
   "outputs": [],
   "source": [
    "openPrice = []\n",
    "closePrice = []\n",
    "lowPrice = []\n",
    "highPrice = []\n",
    "volume = []\n",
    "\n",
    "pre_open = 0\n",
    "pre_close = 0\n",
    "pre_low = 0\n",
    "pre_high = 0\n",
    "pre_volume = 0\n",
    "\n",
    "for index, row in data.iterrows():\n",
    "    openPrice.append(row['Open Price'] - pre_open)\n",
    "    closePrice.append(row['Close Price'] - pre_close)\n",
    "    lowPrice.append(row['Low Price'] - pre_low)\n",
    "    highPrice.append(row['High Price'] - pre_high)\n",
    "    volume.append(row['Volume Price'] - pre_volume)\n",
    "    \n",
    "    pre_open = row['Open Price']\n",
    "    pre_close = row['Close Price']\n",
    "    pre_low = row['Low Price']\n",
    "    pre_high = row['High Price']\n",
    "    pre_volume = row['Volume Price'] \n"
   ]
  },
  {
   "cell_type": "markdown",
   "metadata": {},
   "source": [
    "### 轉換類別資料\n",
    "為了使得NN可以運作，新增漲或跌的label"
   ]
  },
  {
   "cell_type": "code",
   "execution_count": null,
   "metadata": {},
   "outputs": [],
   "source": [
    "trand = []\n",
    "lastPrice = 0.0\n",
    "for price in train_y['Close Price'] :\n",
    "    if price > lastPrice :\n",
    "        trand.append(1)\n",
    "    elif price == lastPrice :\n",
    "        trand.append(0)\n",
    "    else :\n",
    "        trand.append(-1)\n",
    "    lastPrice = price\n",
    "    \n",
    "nn_train_y = pd.DataFrame({\n",
    "    'trand':trand\n",
    "})"
   ]
  },
  {
   "cell_type": "code",
   "execution_count": null,
   "metadata": {},
   "outputs": [],
   "source": [
    "trand = []\n",
    "lastPrice = 0.0\n",
    "for price in test_y['Close Price'] :\n",
    "    if price > lastPrice :\n",
    "        trand.append(1)\n",
    "    elif price == lastPrice :\n",
    "        trand.append(0)\n",
    "    else :\n",
    "        trand.append(-1)\n",
    "    lastPrice = price\n",
    "    \n",
    "nn_test_y = pd.DataFrame({\n",
    "    'trand':trand\n",
    "})"
   ]
  },
  {
   "cell_type": "markdown",
   "metadata": {},
   "source": [
    "## 模型訓練"
   ]
  },
  {
   "cell_type": "markdown",
   "metadata": {},
   "source": [
    "匯入需要的套件"
   ]
  },
  {
   "cell_type": "code",
   "execution_count": null,
   "metadata": {},
   "outputs": [],
   "source": [
    "from sklearn.model_selection import KFold             # 匯入 K 次交叉驗證工具\n",
    "from sklearn.tree import DecisionTreeClassifier       # 匯入決策樹模型\n",
    "from sklearn.metrics import accuracy_score            # 匯入準確度計算工具\n",
    "from sklearn.linear_model import LinearRegression\n",
    "from sklearn.neural_network import MLPClassifier"
   ]
  },
  {
   "cell_type": "markdown",
   "metadata": {},
   "source": [
    "### 線性回歸"
   ]
  },
  {
   "cell_type": "code",
   "execution_count": null,
   "metadata": {},
   "outputs": [],
   "source": [
    "model = LinearRegression()\n",
    "model.fit(np.array(train_x['Date']).reshape(-1, 1),train_y)\n",
    "\n",
    "predict = model.predict(np.array(test_x['Date']).reshape(-1, 1))\n",
    "plt.plot(test_x['Date'], predict, \"r\")\n",
    "plt.plot(test_x['Date'], test_y, \"b\")\n",
    "plt.show()\n",
    "\n",
    "predict = model.predict(np.array(train_x['Date']).reshape(-1, 1))\n",
    "plt.plot(train_x['Date'], predict, \"r\")\n",
    "plt.plot(train_x['Date'], train_y, \"b\")\n",
    "plt.show()"
   ]
  },
  {
   "cell_type": "markdown",
   "metadata": {},
   "source": [
    "### NN\n",
    "由於NN是用來分類，所以要先把預測內容轉換成類別（漲跌）"
   ]
  },
  {
   "cell_type": "code",
   "execution_count": null,
   "metadata": {},
   "outputs": [],
   "source": [
    "model = MLPClassifier(solver='lbfgs', random_state=1010)\n",
    "model.fit(np.array(train_x['Date']).reshape(-1, 1),nn_train_y)\n",
    "\n",
    "predict = model.predict(np.array(train_x['Date']).reshape(-1, 1))\n",
    "\n",
    "tp = 0\n",
    "tn = 0\n",
    "fp = 0\n",
    "fn = 0\n",
    "\n",
    "pd.DataFrame(predict).hist()\n",
    "nn_train_y['trand'].hist()\n",
    "\n",
    "for index in range(0,len(predict)) :\n",
    "    if predict[index]==1:\n",
    "        if nn_train_y['trand'][index]==1:\n",
    "            tp = tp + 1\n",
    "        else:\n",
    "            fp = fp + 1\n",
    "    else:\n",
    "        if nn_train_y['trand'][index]==1:\n",
    "            fn = fn + 1\n",
    "        else:\n",
    "            tn = tn + 1\n",
    "print(tp)\n",
    "print(fp)\n",
    "print(tn)\n",
    "print(fn)\n",
    "\n",
    "# print(\"Recall:{}\".format(tp/(tp+fn)))\n",
    "# print(\"Position:{}\".format(tp/(tp+fp)))"
   ]
  },
  {
   "cell_type": "markdown",
   "metadata": {},
   "source": [
    "### "
   ]
  },
  {
   "cell_type": "code",
   "execution_count": null,
   "metadata": {},
   "outputs": [],
   "source": []
  },
  {
   "cell_type": "code",
   "execution_count": null,
   "metadata": {},
   "outputs": [],
   "source": [
    "# 請勿更動此區塊程式碼\n",
    "\n",
    "EXECUTION_END_TIME = time.time() # 計算執行時間\n",
    "print('total execution time: {}'.format(EXECUTION_END_TIME - EXECUTION_START_TIME))"
   ]
  }
 ],
 "metadata": {
  "kernelspec": {
   "display_name": "Python 3",
   "language": "python",
   "name": "python3"
  },
  "language_info": {
   "codemirror_mode": {
    "name": "ipython",
    "version": 3
   },
   "file_extension": ".py",
   "mimetype": "text/x-python",
   "name": "python",
   "nbconvert_exporter": "python",
   "pygments_lexer": "ipython3",
   "version": "3.7.0"
  }
 },
 "nbformat": 4,
 "nbformat_minor": 4
}
