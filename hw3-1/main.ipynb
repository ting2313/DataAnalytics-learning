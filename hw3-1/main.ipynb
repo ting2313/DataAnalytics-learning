{
 "cells": [
  {
   "cell_type": "code",
   "execution_count": 41,
   "metadata": {},
   "outputs": [],
   "source": [
    "# 請勿更動此區塊程式碼\n",
    "\n",
    "import time\n",
    "import numpy as np\n",
    "import pandas as pd\n",
    "\n",
    "EXECUTION_START_TIME = time.time()\n",
    "\n",
    "df = pd.read_csv('data.csv')\n",
    "df_test = pd.read_csv('test.csv')"
   ]
  },
  {
   "cell_type": "markdown",
   "metadata": {},
   "source": [
    "## 資料分析與前處理"
   ]
  },
  {
   "cell_type": "code",
   "execution_count": 27,
   "metadata": {},
   "outputs": [],
   "source": [
    "# import\n",
    "pd.options.mode.chained_assignment = None      # 解決會噴 warning 的狀況\n",
    "\n",
    "from sklearn.impute import SimpleImputer       # 匯入填補缺失值的工具\n",
    "from sklearn.preprocessing import LabelEncoder # 匯入 Label Encoder\n",
    "import matplotlib.pyplot as plt\n",
    "import seaborn as sns"
   ]
  },
  {
   "cell_type": "markdown",
   "metadata": {},
   "source": [
    "### 處理缺失值\n",
    "檢查輸入的資料是否有缺失值，由count欄位可以確定沒有。"
   ]
  },
  {
   "cell_type": "code",
   "execution_count": 54,
   "metadata": {},
   "outputs": [
    {
     "name": "stdout",
     "output_type": "stream",
     "text": [
      "        Open Price   High Price    Low Price        Volume\n",
      "count  2264.000000  2264.000000  2264.000000  2.264000e+03\n",
      "mean   1656.142686  1664.427054  1647.425128  2.948755e+09\n",
      "std     485.292193   484.808706   485.576116  1.351675e+09\n",
      "min     679.280000   695.270000   666.790000  5.181584e+08\n",
      "25%    1238.602500  1246.695000  1227.587500  2.048980e+09\n",
      "50%    1649.135000  1656.145000  1639.600000  2.506637e+09\n",
      "75%    2070.300000  2079.507500  2058.757500  3.373334e+09\n",
      "max    2692.710000  2694.970000  2685.920000  9.120100e+09\n",
      "       Close Price\n",
      "count  2264.000000\n",
      "mean   1656.767562\n",
      "std     485.226120\n",
      "min     676.530000\n",
      "25%    1239.337500\n",
      "50%    1650.405000\n",
      "75%    2071.190000\n",
      "max    2690.160000\n",
      "        Open Price   High Price    Low Price        Volume\n",
      "count   252.000000   252.000000   252.000000  2.520000e+02\n",
      "mean   2747.910397  2762.747778  2730.143929  2.154050e+09\n",
      "std      99.017479    92.991345   106.490954  4.538626e+08\n",
      "min    2363.120000  2410.340000  2346.580000  9.516523e+08\n",
      "25%    2689.465000  2705.847500  2663.677500  1.879841e+09\n",
      "50%    2742.170000  2755.575000  2725.290000  2.063820e+09\n",
      "75%    2811.430000  2824.802500  2800.630000  2.341078e+09\n",
      "max    2936.760000  2940.910000  2927.110000  4.560164e+09\n",
      "       Close Price\n",
      "count   252.000000\n",
      "mean   2746.030873\n",
      "std     100.251272\n",
      "min    2351.100000\n",
      "25%    2690.512500\n",
      "50%    2741.920000\n",
      "75%    2814.322500\n",
      "max    2930.750000\n"
     ]
    }
   ],
   "source": [
    "train_x = df[['Open Price','High Price','Low Price', 'Volume']]\n",
    "train_y = df[['Close Price']]\n",
    "test_x = df_test[['Open Price','High Price','Low Price', 'Volume']]\n",
    "test_y = df_test[['Close Price']]\n",
    "\n",
    "print(train_x.describe())\n",
    "print(train_y.describe())\n",
    "print(test_x.describe())\n",
    "print(test_y.describe())"
   ]
  },
  {
   "cell_type": "markdown",
   "metadata": {},
   "source": [
    "### 轉換類別資料\n",
    "目標是判斷漲跌，因此我們要先計算出漲還是跌的label"
   ]
  },
  {
   "cell_type": "code",
   "execution_count": 43,
   "metadata": {},
   "outputs": [],
   "source": [
    "# trand = []\n",
    "# lastPrice = 0.0\n",
    "# for price in train_x['Close Price'] :\n",
    "#     if price > lastPrice :\n",
    "#         trand.append(1)\n",
    "#     elif price == lastPrice :\n",
    "#         trand.append(0)\n",
    "#     else :\n",
    "#         trand.append(-1)\n",
    "#     lastPrice = price\n",
    "    \n",
    "# train_y = pd.DataFrame({\n",
    "#     'trand':trand\n",
    "# })"
   ]
  },
  {
   "cell_type": "code",
   "execution_count": 44,
   "metadata": {},
   "outputs": [],
   "source": [
    "# trand = []\n",
    "# lastPrice = 0.0\n",
    "# for price in test_x['Close Price'] :\n",
    "#     if price > lastPrice :\n",
    "#         trand.append(1)\n",
    "#     elif price == lastPrice :\n",
    "#         trand.append(0)\n",
    "#     else :\n",
    "#         trand.append(-1)\n",
    "#     lastPrice = price\n",
    "    \n",
    "# test_y = pd.DataFrame({\n",
    "#     'trand':trand\n",
    "# })"
   ]
  },
  {
   "cell_type": "markdown",
   "metadata": {},
   "source": [
    "### 轉換數值資料\n",
    "對Volume做正規化，以提高精準度。"
   ]
  },
  {
   "cell_type": "code",
   "execution_count": 53,
   "metadata": {},
   "outputs": [],
   "source": [
    "from sklearn import preprocessing\n",
    "\n",
    "array = train_x['Volume'].values.reshape(-1,1)\n",
    "train_x['Volume'] = preprocessing.normalize(array, axis=0)\n",
    "array = test_x['Volume'].values.reshape(-1,1)\n",
    "test_x['Volume'] = preprocessing.normalize(array, axis=0)"
   ]
  },
  {
   "cell_type": "markdown",
   "metadata": {},
   "source": [
    "### 轉換日期資料"
   ]
  },
  {
   "cell_type": "code",
   "execution_count": 75,
   "metadata": {},
   "outputs": [],
   "source": [
    "train_x['Date'] = range(0,len(train_x.index))\n",
    "test_x['Date'] = range(len(train_x.index),len(train_x.index)+len(test_x.index))"
   ]
  },
  {
   "cell_type": "markdown",
   "metadata": {},
   "source": [
    "## 模型訓練"
   ]
  },
  {
   "cell_type": "markdown",
   "metadata": {},
   "source": [
    "匯入需要的套件"
   ]
  },
  {
   "cell_type": "code",
   "execution_count": 46,
   "metadata": {},
   "outputs": [],
   "source": [
    "from sklearn.model_selection import KFold             # 匯入 K 次交叉驗證工具\n",
    "from sklearn.tree import DecisionTreeClassifier       # 匯入決策樹模型\n",
    "from sklearn.metrics import accuracy_score            # 匯入準確度計算工具\n",
    "from sklearn.neighbors import KNeighborsClassifier\n",
    "from sklearn.ensemble import RandomForestClassifier\n",
    "from sklearn.linear_model import LinearRegression"
   ]
  },
  {
   "cell_type": "markdown",
   "metadata": {},
   "source": [
    "### 線性回歸"
   ]
  },
  {
   "cell_type": "code",
   "execution_count": 77,
   "metadata": {},
   "outputs": [
    {
     "data": {
      "image/png": "[encoded data removed]",
      "text/plain": [
       "<Figure size 432x288 with 1 Axes>"
      ]
     },
     "metadata": {
      "needs_background": "light"
     },
     "output_type": "display_data"
    },
    {
     "data": {
      "image/png": "[encoded data removed]",
      "text/plain": [
       "<Figure size 432x288 with 1 Axes>"
      ]
     },
     "metadata": {
      "needs_background": "light"
     },
     "output_type": "display_data"
    }
   ],
   "source": [
    "model = LinearRegression()\n",
    "model.fit(np.array(train_x['Date']).reshape(-1, 1),train_y)\n",
    "\n",
    "predict = model.predict(np.array(test_x['Date']).reshape(-1, 1))\n",
    "plt.plot(test_x['Date'], predict, \"r\")\n",
    "plt.plot(test_x['Date'], test_y, \"g\")\n",
    "plt.show()\n",
    "\n",
    "predict = model.predict(np.array(train_x['Date']).reshape(-1, 1))\n",
    "plt.plot(train_x['Date'], predict, \"r\")\n",
    "plt.plot(train_x['Date'], train_y, \"g\")\n",
    "plt.show()"
   ]
  },
  {
   "cell_type": "markdown",
   "metadata": {},
   "source": [
    "## 加分題\n",
    "\n",
    "請將訓練後的模型套用至 [Kaggle Titanic](https://www.kaggle.com/c/titanic/overview) `test.csv` 上，並上傳至 Kaggle 進行評分，**截圖**後**嵌入**至 `markdown` 區塊中。"
   ]
  },
  {
   "cell_type": "code",
   "execution_count": null,
   "metadata": {},
   "outputs": [],
   "source": [
    "# 請勿更動此區塊程式碼\n",
    "\n",
    "EXECUTION_END_TIME = time.time() # 計算執行時間\n",
    "print('total execution time: {}'.format(EXECUTION_END_TIME - EXECUTION_START_TIME))"
   ]
  }
 ],
 "metadata": {
  "kernelspec": {
   "display_name": "Python 3",
   "language": "python",
   "name": "python3"
  },
  "language_info": {
   "codemirror_mode": {
    "name": "ipython",
    "version": 3
   },
   "file_extension": ".py",
   "mimetype": "text/x-python",
   "name": "python",
   "nbconvert_exporter": "python",
   "pygments_lexer": "ipython3",
   "version": "3.7.0"
  }
 },
 "nbformat": 4,
 "nbformat_minor": 4
}
