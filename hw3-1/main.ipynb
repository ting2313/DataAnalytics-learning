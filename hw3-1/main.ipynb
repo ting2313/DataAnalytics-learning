{
 "cells": [
  {
   "cell_type": "markdown",
   "metadata": {},
   "source": [
    "## 前處理"
   ]
  },
  {
   "cell_type": "code",
   "execution_count": 1,
   "metadata": {},
   "outputs": [
    {
     "name": "stderr",
     "output_type": "stream",
     "text": [
      "/home/tingyu/.local/lib/python3.7/site-packages/pandas/compat/__init__.py:117: UserWarning: Could not import the lzma module. Your installed Python is incomplete. Attempting to use lzma compression will result in a RuntimeError.\n",
      "  warnings.warn(msg)\n"
     ]
    }
   ],
   "source": [
    "import time\n",
    "import numpy as np\n",
    "import pandas as pd\n",
    "\n",
    "EXECUTION_START_TIME = time.time()\n",
    "\n",
    "df = pd.read_csv('data.csv')\n",
    "df_test = pd.read_csv('test.csv')"
   ]
  },
  {
   "cell_type": "code",
   "execution_count": 2,
   "metadata": {},
   "outputs": [],
   "source": [
    "# import\n",
    "pd.options.mode.chained_assignment = None      # 解決會噴 warning 的狀況\n",
    "\n",
    "from sklearn.impute import SimpleImputer       # 匯入填補缺失值的工具\n",
    "from sklearn.preprocessing import LabelEncoder # 匯入 Label Encoder\n",
    "import matplotlib.pyplot as plt\n",
    "import seaborn as sns"
   ]
  },
  {
   "cell_type": "markdown",
   "metadata": {},
   "source": [
    "### 處理缺失值\n",
    "檢查資料庫是否有缺失值，由count欄位可以確定沒有。"
   ]
  },
  {
   "cell_type": "code",
   "execution_count": 3,
   "metadata": {},
   "outputs": [
    {
     "name": "stdout",
     "output_type": "stream",
     "text": [
      "        Open Price   High Price  Close Price    Low Price        Volume\n",
      "count  2264.000000  2264.000000  2264.000000  2264.000000  2.264000e+03\n",
      "mean   1656.142686  1664.427054  1656.767562  1647.425128  2.948755e+09\n",
      "std     485.292193   484.808706   485.226120   485.576116  1.351675e+09\n",
      "min     679.280000   695.270000   676.530000   666.790000  5.181584e+08\n",
      "25%    1238.602500  1246.695000  1239.337500  1227.587500  2.048980e+09\n",
      "50%    1649.135000  1656.145000  1650.405000  1639.600000  2.506637e+09\n",
      "75%    2070.300000  2079.507500  2071.190000  2058.757500  3.373334e+09\n",
      "max    2692.710000  2694.970000  2690.160000  2685.920000  9.120100e+09\n",
      "        Open Price   High Price  Close Price    Low Price        Volume\n",
      "count   252.000000   252.000000   252.000000   252.000000  2.520000e+02\n",
      "mean   2747.910397  2762.747778  2746.030873  2730.143929  2.154050e+09\n",
      "std      99.017479    92.991345   100.251272   106.490954  4.538626e+08\n",
      "min    2363.120000  2410.340000  2351.100000  2346.580000  9.516523e+08\n",
      "25%    2689.465000  2705.847500  2690.512500  2663.677500  1.879841e+09\n",
      "50%    2742.170000  2755.575000  2741.920000  2725.290000  2.063820e+09\n",
      "75%    2811.430000  2824.802500  2814.322500  2800.630000  2.341078e+09\n",
      "max    2936.760000  2940.910000  2930.750000  2927.110000  4.560164e+09\n"
     ]
    }
   ],
   "source": [
    "data = df[['Open Price','High Price', 'Close Price','Low Price', 'Volume']]\n",
    "test = df_test[['Open Price','High Price', 'Close Price','Low Price', 'Volume']]\n",
    "\n",
    "print(data.describe())\n",
    "print(test.describe())"
   ]
  },
  {
   "cell_type": "markdown",
   "metadata": {},
   "source": [
    "### 轉換日期資料\n",
    "為了方便計算，為每個條目新增日期"
   ]
  },
  {
   "cell_type": "code",
   "execution_count": 4,
   "metadata": {},
   "outputs": [],
   "source": [
    "data['Date'] = range(0,len(data.index))\n",
    "test['Date'] = range(0,len(test.index))"
   ]
  },
  {
   "cell_type": "markdown",
   "metadata": {},
   "source": [
    "### 轉換資料\n",
    "目的是用前四筆資料之間的差值預測第五筆，因此要先將前四筆的資料彙整。"
   ]
  },
  {
   "cell_type": "code",
   "execution_count": 5,
   "metadata": {},
   "outputs": [],
   "source": [
    "openPrice = []\n",
    "closePrice = []\n",
    "lowPrice = []\n",
    "highPrice = []\n",
    "volume = []\n",
    "\n",
    "pre_open = 0\n",
    "pre_close = 0\n",
    "pre_low = 0\n",
    "pre_high = 0\n",
    "pre_volume = 0\n",
    "\n",
    "for index, row in data.iterrows():\n",
    "    openPrice.append(1 if row['Open Price'] - pre_open>0 else 0)\n",
    "    closePrice.append(1 if row['Close Price'] - pre_close>0 else 0)\n",
    "    lowPrice.append(1 if row['Low Price'] - pre_low>0 else 0)\n",
    "    highPrice.append(1 if row['High Price'] - pre_high>0 else 0)\n",
    "    volume.append(1 if row['Volume'] - pre_volume>0 else 0)\n",
    "    \n",
    "    pre_open = row['Open Price']\n",
    "    pre_close = row['Close Price']\n",
    "    pre_low = row['Low Price']\n",
    "    pre_high = row['High Price']\n",
    "    pre_volume = row['Volume'] "
   ]
  },
  {
   "cell_type": "code",
   "execution_count": 6,
   "metadata": {},
   "outputs": [],
   "source": [
    "open1 = []\n",
    "open2 = []\n",
    "open3 = []\n",
    "openOut = []\n",
    "\n",
    "close1 = []\n",
    "close2 = []\n",
    "close3 = []\n",
    "closeOut = []\n",
    "\n",
    "low1 = []\n",
    "low2 = []\n",
    "low3 = []\n",
    "lowOut = []\n",
    "\n",
    "high1 = []\n",
    "high2 = []\n",
    "high3 = []\n",
    "highOut = []\n",
    "\n",
    "volume1 = []\n",
    "volume2 = []\n",
    "volume3 = []\n",
    "volumeOut = []\n",
    "\n",
    "\n",
    "for index in range(1,len(data)-3):\n",
    "    open1.append(openPrice[index])\n",
    "    open2.append(openPrice[index+1])\n",
    "    open3.append(openPrice[index+2])\n",
    "    openOut.append(openPrice[index+3])\n",
    "    \n",
    "    close1.append(closePrice[index])\n",
    "    close2.append(closePrice[index+1])\n",
    "    close3.append(closePrice[index+2])\n",
    "    closeOut.append(closePrice[index+3])\n",
    "    \n",
    "    low1.append(lowPrice[index])\n",
    "    low2.append(lowPrice[index+1])\n",
    "    low3.append(lowPrice[index+2])\n",
    "    lowOut.append(lowPrice[index+3])\n",
    "    \n",
    "    high1.append(highPrice[index])\n",
    "    high2.append(highPrice[index+1])\n",
    "    high3.append(highPrice[index+2])\n",
    "    highOut.append(highPrice[index+3])\n",
    "    \n",
    "    volume1.append(volume[index])\n",
    "    volume2.append(volume[index+1])\n",
    "    volume3.append(volume[index+2])\n",
    "    volumeOut.append(volume[index+3])"
   ]
  },
  {
   "cell_type": "code",
   "execution_count": 7,
   "metadata": {},
   "outputs": [],
   "source": [
    "train_x = pd.DataFrame({\n",
    "    'open1': open1,\n",
    "    'open2': open2,\n",
    "    'open3': open3,\n",
    "    'close1': close1,\n",
    "    'close2': close2,\n",
    "    'close3': close3,\n",
    "#     'low1': low1,\n",
    "#     'low2': low2,\n",
    "#     'low3': low3,\n",
    "#     'high1': high1,\n",
    "#     'high2': high2,\n",
    "#     'high3': high3,\n",
    "    'volume1': volume1,\n",
    "    'volume2': volume2,\n",
    "    'volume3': volume3\n",
    "})\n",
    "\n",
    "train_y = pd.DataFrame({\n",
    "    'open': openOut,\n",
    "    'close': closeOut,\n",
    "    'low': lowOut,\n",
    "    'high': highOut,\n",
    "    'volume': volumeOut\n",
    "})"
   ]
  },
  {
   "cell_type": "markdown",
   "metadata": {},
   "source": [
    "接著用一樣的方法，對測試資料做一樣的整理。"
   ]
  },
  {
   "cell_type": "code",
   "execution_count": 8,
   "metadata": {},
   "outputs": [],
   "source": [
    "openPrice = []\n",
    "closePrice = []\n",
    "lowPrice = []\n",
    "highPrice = []\n",
    "volume = []\n",
    "\n",
    "pre_open = 0\n",
    "pre_close = 0\n",
    "pre_low = 0\n",
    "pre_high = 0\n",
    "pre_volume = 0\n",
    "\n",
    "for index, row in test.iterrows():\n",
    "    openPrice.append(1 if row['Open Price'] - pre_open>0 else 0)\n",
    "    closePrice.append(1 if row['Close Price'] - pre_close>0 else 0)\n",
    "    lowPrice.append(1 if row['Low Price'] - pre_low>0 else 0)\n",
    "    highPrice.append(1 if row['High Price'] - pre_high>0 else 0)\n",
    "    volume.append(1 if row['Volume'] - pre_volume>0 else 0)\n",
    "    \n",
    "    pre_open = row['Open Price']\n",
    "    pre_close = row['Close Price']\n",
    "    pre_low = row['Low Price']\n",
    "    pre_high = row['High Price']\n",
    "    pre_volume = row['Volume'] "
   ]
  },
  {
   "cell_type": "code",
   "execution_count": 9,
   "metadata": {},
   "outputs": [],
   "source": [
    "open1 = []\n",
    "open2 = []\n",
    "open3 = []\n",
    "openOut = []\n",
    "\n",
    "close1 = []\n",
    "close2 = []\n",
    "close3 = []\n",
    "closeOut = []\n",
    "\n",
    "low1 = []\n",
    "low2 = []\n",
    "low3 = []\n",
    "lowOut = []\n",
    "\n",
    "high1 = []\n",
    "high2 = []\n",
    "high3 = []\n",
    "highOut = []\n",
    "\n",
    "volume1 = []\n",
    "volume2 = []\n",
    "volume3 = []\n",
    "volumeOut = []\n",
    "\n",
    "\n",
    "for index in range(1,len(test)-3):\n",
    "    open1.append(openPrice[index])\n",
    "    open2.append(openPrice[index+1])\n",
    "    open3.append(openPrice[index+2])\n",
    "    openOut.append(openPrice[index+3])\n",
    "    \n",
    "    close1.append(closePrice[index])\n",
    "    close2.append(closePrice[index+1])\n",
    "    close3.append(closePrice[index+2])\n",
    "    closeOut.append(closePrice[index+3])\n",
    "    \n",
    "    low1.append(lowPrice[index])\n",
    "    low2.append(lowPrice[index+1])\n",
    "    low3.append(lowPrice[index+2])\n",
    "    lowOut.append(lowPrice[index+3])\n",
    "    \n",
    "    high1.append(highPrice[index])\n",
    "    high2.append(highPrice[index+1])\n",
    "    high3.append(highPrice[index+2])\n",
    "    highOut.append(highPrice[index+3])\n",
    "    \n",
    "    volume1.append(volume[index])\n",
    "    volume2.append(volume[index+1])\n",
    "    volume3.append(volume[index+2])\n",
    "    volumeOut.append(volume[index+3])"
   ]
  },
  {
   "cell_type": "code",
   "execution_count": 10,
   "metadata": {},
   "outputs": [],
   "source": [
    "test_x = pd.DataFrame({\n",
    "    'open1': open1,\n",
    "    'open2': open2,\n",
    "    'open3': open3,\n",
    "    'close1': close1,\n",
    "    'close2': close2,\n",
    "    'close3': close3,\n",
    "#     'low1': low1,\n",
    "#     'low2': low2,\n",
    "#     'low3': low3,\n",
    "#     'high1': high1,\n",
    "#     'high2': high2,\n",
    "#     'high3': high3,\n",
    "    'volume1': volume1,\n",
    "    'volume2': volume2,\n",
    "    'volume3': volume3\n",
    "})\n",
    "\n",
    "test_y = pd.DataFrame({\n",
    "    'open': openOut,\n",
    "    'close': closeOut,\n",
    "    'low': lowOut,\n",
    "    'high': highOut,\n",
    "    'volume': volumeOut\n",
    "})"
   ]
  },
  {
   "cell_type": "markdown",
   "metadata": {},
   "source": [
    "## 模型訓練"
   ]
  },
  {
   "cell_type": "markdown",
   "metadata": {},
   "source": [
    "匯入需要的套件"
   ]
  },
  {
   "cell_type": "code",
   "execution_count": 11,
   "metadata": {},
   "outputs": [],
   "source": [
    "from sklearn.metrics import accuracy_score            # 匯入準確度計算工具\n",
    "from sklearn.linear_model import LinearRegression\n",
    "from sklearn.neural_network import MLPClassifier\n",
    "from sklearn.ensemble import RandomForestClassifier"
   ]
  },
  {
   "cell_type": "markdown",
   "metadata": {},
   "source": [
    "### 線性迴歸"
   ]
  },
  {
   "cell_type": "code",
   "execution_count": 12,
   "metadata": {},
   "outputs": [
    {
     "name": "stdout",
     "output_type": "stream",
     "text": [
      "88\n",
      "57\n",
      "53\n",
      "50\n",
      "Recall:0.6376811594202898\n",
      "Position:0.6068965517241379\n",
      "Accuracy:0.5685483870967742\n"
     ]
    }
   ],
   "source": [
    "model = LinearRegression()\n",
    "model.fit(train_x,train_y['close'])\n",
    "\n",
    "predict = model.predict(test_x)\n",
    "\n",
    "tp = 0\n",
    "tn = 0\n",
    "fp = 0\n",
    "fn = 0\n",
    "\n",
    "for index in range(0,len(predict)) :\n",
    "    if predict[index]>=0.54:\n",
    "        if train_y['close'][index]==1:\n",
    "            tp = tp + 1\n",
    "        else:\n",
    "            fp = fp + 1\n",
    "    else:\n",
    "        if train_y['close'][index]==1:\n",
    "            fn = fn + 1\n",
    "        else:\n",
    "            tn = tn + 1\n",
    "print(tp)\n",
    "print(fp)\n",
    "print(tn)\n",
    "print(fn)\n",
    "\n",
    "print(\"Recall:{}\".format(tp/(tp+fn)))\n",
    "print(\"Position:{}\".format(tp/(tp+fp)))\n",
    "print(\"Accuracy:{}\".format((tp+tn)/(tp+fp+tn+fn)))"
   ]
  },
  {
   "cell_type": "markdown",
   "metadata": {},
   "source": [
    "### NN"
   ]
  },
  {
   "cell_type": "code",
   "execution_count": 13,
   "metadata": {},
   "outputs": [
    {
     "name": "stdout",
     "output_type": "stream",
     "text": [
      "109\n",
      "72\n",
      "38\n",
      "29\n",
      "Recall:0.7898550724637681\n",
      "Position:0.6022099447513812\n",
      "Accuracy:0.592741935483871\n"
     ]
    }
   ],
   "source": [
    "model = MLPClassifier(solver='adam', random_state=1010,max_iter=1000)\n",
    "model.fit(train_x,train_y['close'])\n",
    "\n",
    "predict = model.predict(test_x)\n",
    "\n",
    "tp = 0\n",
    "tn = 0\n",
    "fp = 0\n",
    "fn = 0\n",
    "\n",
    "for index in range(0,len(predict)) :\n",
    "    if predict[index]==1:\n",
    "        if train_y['close'][index]==1:\n",
    "            tp = tp + 1\n",
    "        else:\n",
    "            fp = fp + 1\n",
    "    else:\n",
    "        if train_y['close'][index]==1:\n",
    "            fn = fn + 1\n",
    "        else:\n",
    "            tn = tn + 1\n",
    "print(tp)\n",
    "print(fp)\n",
    "print(tn)\n",
    "print(fn)\n",
    "\n",
    "print(\"Recall:{}\".format(tp/(tp+fn)))\n",
    "print(\"Position:{}\".format(tp/(tp+fp)))\n",
    "print(\"Accuracy:{}\".format((tp+tn)/(tp+fp+tn+fn)))"
   ]
  },
  {
   "cell_type": "markdown",
   "metadata": {},
   "source": [
    "### Ensemble"
   ]
  },
  {
   "cell_type": "code",
   "execution_count": 14,
   "metadata": {},
   "outputs": [
    {
     "name": "stdout",
     "output_type": "stream",
     "text": [
      "104\n",
      "72\n",
      "38\n",
      "34\n",
      "Recall:0.7536231884057971\n",
      "Position:0.5909090909090909\n",
      "Accuracy:0.5725806451612904\n"
     ]
    }
   ],
   "source": [
    "model = RandomForestClassifier(random_state=1012,n_estimators=500)\n",
    "model.fit(train_x,train_y['close'])\n",
    "\n",
    "predict = model.predict(test_x)\n",
    "\n",
    "tp = 0\n",
    "tn = 0\n",
    "fp = 0\n",
    "fn = 0\n",
    "\n",
    "for index in range(0,len(predict)) :\n",
    "    if predict[index]==1:\n",
    "        if train_y['close'][index]==1:\n",
    "            tp = tp + 1\n",
    "        else:\n",
    "            fp = fp + 1\n",
    "    else:\n",
    "        if train_y['close'][index]==1:\n",
    "            fn = fn + 1\n",
    "        else:\n",
    "            tn = tn + 1\n",
    "print(tp)\n",
    "print(fp)\n",
    "print(tn)\n",
    "print(fn)\n",
    "\n",
    "print(\"Recall:{}\".format(tp/(tp+fn)))\n",
    "print(\"Position:{}\".format(tp/(tp+fp)))\n",
    "print(\"Accuracy:{}\".format((tp+tn)/(tp+fp+tn+fn)))"
   ]
  },
  {
   "cell_type": "code",
   "execution_count": 15,
   "metadata": {},
   "outputs": [
    {
     "name": "stdout",
     "output_type": "stream",
     "text": [
      "total execution time: 5.140761852264404\n"
     ]
    }
   ],
   "source": [
    "# 請勿更動此區塊程式碼\n",
    "\n",
    "EXECUTION_END_TIME = time.time() # 計算執行時間\n",
    "print('total execution time: {}'.format(EXECUTION_END_TIME - EXECUTION_START_TIME))"
   ]
  }
 ],
 "metadata": {
  "kernelspec": {
   "display_name": "Python 3",
   "language": "python",
   "name": "python3"
  },
  "language_info": {
   "codemirror_mode": {
    "name": "ipython",
    "version": 3
   },
   "file_extension": ".py",
   "mimetype": "text/x-python",
   "name": "python",
   "nbconvert_exporter": "python",
   "pygments_lexer": "ipython3",
   "version": "3.7.0"
  }
 },
 "nbformat": 4,
 "nbformat_minor": 4
}
